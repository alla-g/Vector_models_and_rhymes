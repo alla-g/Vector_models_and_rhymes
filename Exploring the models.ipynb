{
 "cells": [
  {
   "cell_type": "code",
   "execution_count": 1,
   "metadata": {},
   "outputs": [],
   "source": [
    "import random\n",
    "import gensim\n",
    "import warnings\n",
    "import statistics\n",
    "import matplotlib.pyplot as plt\n",
    "import pandas as pd\n",
    "import numpy\n",
    "from gensim.models import word2vec\n",
    "from nltk.tokenize import word_tokenize\n",
    "from pprint import pprint\n",
    "from pymorphy2 import MorphAnalyzer\n",
    "from collections import Counter\n",
    "%matplotlib inline\n",
    "warnings.filterwarnings('ignore')\n",
    "morph = MorphAnalyzer()"
   ]
  },
  {
   "cell_type": "markdown",
   "metadata": {},
   "source": [
    "# Only-rhyme vector model"
   ]
  },
  {
   "cell_type": "markdown",
   "metadata": {},
   "source": [
    "### Different windows"
   ]
  },
  {
   "cell_type": "code",
   "execution_count": 42,
   "metadata": {},
   "outputs": [],
   "source": [
    "model_rhyme_2 = gensim.models.KeyedVectors.load_word2vec_format('model_stihi.rurhymesWIN2.bin', binary=True)\n",
    "model_rhyme_5 = gensim.models.KeyedVectors.load_word2vec_format('model_stihi.rurhymesWIN5.bin', binary=True)\n",
    "model_rhyme_7 = gensim.models.KeyedVectors.load_word2vec_format('model_stihi.rurhymesWIN7.bin', binary=True)"
   ]
  },
  {
   "cell_type": "markdown",
   "metadata": {},
   "source": [
    "#### A table with first examples"
   ]
  },
  {
   "cell_type": "code",
   "execution_count": 85,
   "metadata": {},
   "outputs": [],
   "source": [
    "cols = {}"
   ]
  },
  {
   "cell_type": "code",
   "execution_count": 86,
   "metadata": {
    "scrolled": true
   },
   "outputs": [],
   "source": [
    "top_words = model_rhyme_2.wv.index2entity[:10]\n",
    "cols['Слово'] = top_words\n",
    "res2 = []\n",
    "for i in top_words:\n",
    "    tops = []\n",
    "    for t, n in model_rhyme_2.wv.most_similar(i, topn=3):\n",
    "        tops.append(t)\n",
    "    res2.append(', '.join(tops))\n",
    "cols['Окно 2'] = res2\n",
    "\n",
    "res5 = []\n",
    "for i in top_words:\n",
    "    tops = []\n",
    "    for t, n in model_rhyme_5.wv.most_similar(i, topn=3):\n",
    "        tops.append(t)\n",
    "    res5.append(', '.join(tops))\n",
    "cols['Окно 5'] = res5\n",
    "\n",
    "res7 = []\n",
    "for i in top_words:\n",
    "    tops = []\n",
    "    for t, n in model_rhyme_7.wv.most_similar(i, topn=3):\n",
    "        tops.append(t)\n",
    "    res7.append(', '.join(tops))\n",
    "cols['Окно 7'] = res7"
   ]
  },
  {
   "cell_type": "code",
   "execution_count": 87,
   "metadata": {
    "scrolled": true
   },
   "outputs": [
    {
     "data": {
      "text/html": [
       "<div>\n",
       "<style scoped>\n",
       "    .dataframe tbody tr th:only-of-type {\n",
       "        vertical-align: middle;\n",
       "    }\n",
       "\n",
       "    .dataframe tbody tr th {\n",
       "        vertical-align: top;\n",
       "    }\n",
       "\n",
       "    .dataframe thead th {\n",
       "        text-align: right;\n",
       "    }\n",
       "</style>\n",
       "<table border=\"1\" class=\"dataframe\">\n",
       "  <thead>\n",
       "    <tr style=\"text-align: right;\">\n",
       "      <th></th>\n",
       "      <th>Слово</th>\n",
       "      <th>Окно 2</th>\n",
       "      <th>Окно 5</th>\n",
       "      <th>Окно 7</th>\n",
       "    </tr>\n",
       "  </thead>\n",
       "  <tbody>\n",
       "    <tr>\n",
       "      <th>0</th>\n",
       "      <td>я</td>\n",
       "      <td>ты, мой, себя</td>\n",
       "      <td>ты, мой, себя</td>\n",
       "      <td>ты, мой, себя</td>\n",
       "    </tr>\n",
       "    <tr>\n",
       "      <th>1</th>\n",
       "      <td>ты</td>\n",
       "      <td>себя, стобой, я</td>\n",
       "      <td>себя, я, мечта</td>\n",
       "      <td>себя, я, твой</td>\n",
       "    </tr>\n",
       "    <tr>\n",
       "      <th>2</th>\n",
       "      <td>любовь</td>\n",
       "      <td>нелюбовь, любвь, пошливый</td>\n",
       "      <td>нелюбовь, вновь, твой</td>\n",
       "      <td>нелюбовь, вновь, ты</td>\n",
       "    </tr>\n",
       "    <tr>\n",
       "      <th>3</th>\n",
       "      <td>быть</td>\n",
       "      <td>пробыть, побыть, пребыть</td>\n",
       "      <td>забывать, побыть, полюбить</td>\n",
       "      <td>забывать, любить, побыть</td>\n",
       "    </tr>\n",
       "    <tr>\n",
       "      <th>4</th>\n",
       "      <td>душа</td>\n",
       "      <td>феопомп, соблеть, каннель</td>\n",
       "      <td>душить, глушить, безушить</td>\n",
       "      <td>колхозания, смутьяа, Ritt</td>\n",
       "    </tr>\n",
       "    <tr>\n",
       "      <th>5</th>\n",
       "      <td>любить</td>\n",
       "      <td>полюбить, разлюблять, нелюбить</td>\n",
       "      <td>полюбить, разлюблять, дарить</td>\n",
       "      <td>полюбить, разлюблять, дарить</td>\n",
       "    </tr>\n",
       "    <tr>\n",
       "      <th>6</th>\n",
       "      <td>свет</td>\n",
       "      <td>рассвет, секрет, просвет</td>\n",
       "      <td>рассвет, секрет, запрет</td>\n",
       "      <td>рассвет, секрет, ответ</td>\n",
       "    </tr>\n",
       "    <tr>\n",
       "      <th>7</th>\n",
       "      <td>глаз</td>\n",
       "      <td>паз, прозапас, шахраз</td>\n",
       "      <td>час, раз, сейчас</td>\n",
       "      <td>час, раз, сейчас</td>\n",
       "    </tr>\n",
       "    <tr>\n",
       "      <th>8</th>\n",
       "      <td>год</td>\n",
       "      <td>вред, след, беда</td>\n",
       "      <td>беда, след, нет</td>\n",
       "      <td>беда, нет, след</td>\n",
       "    </tr>\n",
       "    <tr>\n",
       "      <th>9</th>\n",
       "      <td>сон</td>\n",
       "      <td>полусон, тон, шовковi</td>\n",
       "      <td>полусон, тишина, тон</td>\n",
       "      <td>тишина, полусон, луна</td>\n",
       "    </tr>\n",
       "  </tbody>\n",
       "</table>\n",
       "</div>"
      ],
      "text/plain": [
       "    Слово                          Окно 2                        Окно 5  \\\n",
       "0       я                   ты, мой, себя                 ты, мой, себя   \n",
       "1      ты                 себя, стобой, я                себя, я, мечта   \n",
       "2  любовь       нелюбовь, любвь, пошливый         нелюбовь, вновь, твой   \n",
       "3    быть        пробыть, побыть, пребыть    забывать, побыть, полюбить   \n",
       "4    душа       феопомп, соблеть, каннель     душить, глушить, безушить   \n",
       "5  любить  полюбить, разлюблять, нелюбить  полюбить, разлюблять, дарить   \n",
       "6    свет        рассвет, секрет, просвет       рассвет, секрет, запрет   \n",
       "7    глаз           паз, прозапас, шахраз              час, раз, сейчас   \n",
       "8     год                вред, след, беда               беда, след, нет   \n",
       "9     сон           полусон, тон, шовковi          полусон, тишина, тон   \n",
       "\n",
       "                         Окно 7  \n",
       "0                 ты, мой, себя  \n",
       "1                 себя, я, твой  \n",
       "2           нелюбовь, вновь, ты  \n",
       "3      забывать, любить, побыть  \n",
       "4     колхозания, смутьяа, Ritt  \n",
       "5  полюбить, разлюблять, дарить  \n",
       "6        рассвет, секрет, ответ  \n",
       "7              час, раз, сейчас  \n",
       "8               беда, нет, след  \n",
       "9         тишина, полусон, луна  "
      ]
     },
     "execution_count": 87,
     "metadata": {},
     "output_type": "execute_result"
    }
   ],
   "source": [
    "titles = ['Слово', 'Окно 2', 'Окно 5', 'Окно 7']\n",
    "df = pd.DataFrame(cols)\n",
    "df = df.reindex(columns=titles)\n",
    "df"
   ]
  },
  {
   "cell_type": "markdown",
   "metadata": {},
   "source": [
    "#### % of similarity between models"
   ]
  },
  {
   "cell_type": "code",
   "execution_count": 44,
   "metadata": {},
   "outputs": [
    {
     "name": "stdout",
     "output_type": "stream",
     "text": [
      "Из первых 1000 слов окно 2 и окно 5 пересекаются: 65.8 %\n",
      "Wall time: 2min 36s\n"
     ]
    }
   ],
   "source": [
    "%%time\n",
    "vocab = model_rhyme_2.wv.index2entity[:1000]\n",
    "intersectw2w5 = 0\n",
    "for word in vocab:\n",
    "    w2 = []\n",
    "    for t, n in model_rhyme_2.wv.most_similar(word, topn=3):\n",
    "        w2.append(t)\n",
    "    w5 = []\n",
    "    for t, n in model_rhyme_5.wv.most_similar(word, topn=3):\n",
    "        w5.append(t)\n",
    "    if len(set(w2) & set(w5)) >= 2:\n",
    "        intersectw2w5 +=1\n",
    "print('Из первых %d слов окно 2 и окно 5 пересекаются:' % (len(vocab)), intersectw2w5 / len(vocab) * 100, '%')"
   ]
  },
  {
   "cell_type": "code",
   "execution_count": 129,
   "metadata": {},
   "outputs": [
    {
     "name": "stdout",
     "output_type": "stream",
     "text": [
      "Из первых 1000 слов окно 5 и окно 7 пересекаются: 95.1 %\n"
     ]
    }
   ],
   "source": [
    "intersectw5w7 = 0\n",
    "for word in vocab:\n",
    "    w5 = []\n",
    "    for t, n in model_rhyme_5.wv.most_similar(word, topn=3):\n",
    "        w5.append(t)\n",
    "    w7 = []\n",
    "    for t, n in model_rhyme_7.wv.most_similar(word, topn=3):\n",
    "        w7.append(t)\n",
    "    if len(set(w5) & set(w7)) >= 2:\n",
    "        intersectw5w7 +=1\n",
    "print('Из первых %d слов окно 5 и окно 7 пересекаются:' % (len(vocab)), intersectw5w7 / len(vocab) * 100, '%')"
   ]
  },
  {
   "cell_type": "code",
   "execution_count": 130,
   "metadata": {},
   "outputs": [
    {
     "name": "stdout",
     "output_type": "stream",
     "text": [
      "Из первых 1000 слов окно 2 и окно 7 пересекаются: 59.8 %\n"
     ]
    }
   ],
   "source": [
    "intersectw2w7 = 0\n",
    "for word in vocab:\n",
    "    w2 = []\n",
    "    for t, n in model_rhyme_2.wv.most_similar(word, topn=3):\n",
    "        w2.append(t)\n",
    "    w7 = []\n",
    "    for t, n in model_rhyme_7.wv.most_similar(word, topn=3):\n",
    "        w7.append(t)\n",
    "    if len(set(w2) & set(w7)) >= 2:\n",
    "        intersectw2w7 +=1\n",
    "print('Из первых %d слов окно 2 и окно 7 пересекаются:' % (len(vocab)), intersectw2w7 / len(vocab) * 100, '%')"
   ]
  },
  {
   "cell_type": "markdown",
   "metadata": {},
   "source": [
    "#### Choosing words for coherense test"
   ]
  },
  {
   "cell_type": "code",
   "execution_count": 175,
   "metadata": {},
   "outputs": [
    {
     "name": "stdout",
     "output_type": "stream",
     "text": [
      "лицо налицо очевидец рука\n",
      "сильный непосильный бессильный старый\n",
      "игрушка безделушка времюшки прекрасно\n",
      "хлам бедлам срам ладошка\n",
      "понемногу немного немногу наивный\n",
      "упускать отпускать пропускать перец\n",
      "ненароком наскоком жестоко посидеть\n",
      "верх наверх вверх выносить\n",
      "сопеть храпеть скрипеть молодость\n",
      "воспринимать принимать усложнять отчасти\n",
      "прибегать побежать убегать достаток\n",
      "часок разок чуток ни\n",
      "иностранец голодранец оборванец повестись\n",
      "ваниль гриль марметиль сестричка\n",
      "обрывать срывать завывать клевета\n",
      "заплутать плутать пропадать опережать\n",
      "троллейбус автобус кондуктор начертать\n",
      "ряса лясы лоботряс оскорбление\n",
      "каркас прикраса окрас манто\n",
      "немецкий простецкий шведский оглашать\n"
     ]
    }
   ],
   "source": [
    "sample =  model_rhyme_2.wv.index2entity[50:10050:500]\n",
    "for s in sample:\n",
    "    sim = model_rhyme_2.wv.most_similar(s, topn=2)\n",
    "    index = model_rhyme_2.wv.vocab[s].index\n",
    "    pool = model_rhyme_2.wv.index2entity[index-50:index+50]\n",
    "    intruder = pool[random.randint(0, len(pool))]\n",
    "    print(s, sim[0][0], sim[1][0], intruder)"
   ]
  },
  {
   "cell_type": "code",
   "execution_count": 174,
   "metadata": {},
   "outputs": [
    {
     "name": "stdout",
     "output_type": "stream",
     "text": [
      "лицо ресница вереница всегда\n",
      "сильный бессильный всесильный смело\n",
      "игрушка подушка маркусик видать\n",
      "хлам бедлам пополам пример\n",
      "понемногу немного тревога заплатить\n",
      "упускать отпускать пропускать украшать\n",
      "ненароком наскоком жестоко разврат\n",
      "верх вверх наверх прекращать\n",
      "сопеть храпеть скрипеть распускать\n",
      "воспринимать принимать осознавать сокрыть\n",
      "прибегать побежать подбегать конек\n",
      "часок разок адресок прибавлять\n",
      "иностранец африканец голодранец околица\n",
      "ваниль марметиль кадриль шелуха\n",
      "обрывать срывать задевать лиза\n",
      "заплутать плутать уставать леска\n",
      "троллейбус тролейбус Venseremos намокать\n",
      "ряса разозляся лясы мурлыкать\n",
      "каркас раскрас окрас представляться\n",
      "немецкий простецкий турецкий обличать\n"
     ]
    }
   ],
   "source": [
    "sample =  model_rhyme_5.wv.index2entity[50:10050:500]\n",
    "for s in sample:\n",
    "    sim = model_rhyme_5.wv.most_similar(s, topn=2)\n",
    "    index = model_rhyme_5.wv.vocab[s].index\n",
    "    pool = model_rhyme_5.wv.index2entity[index-50:index+50]\n",
    "    intruder = pool[random.randint(0, len(pool))]\n",
    "    print(s, sim[0][0], sim[1][0], intruder)"
   ]
  },
  {
   "cell_type": "markdown",
   "metadata": {},
   "source": [
    "#### Average line length"
   ]
  },
  {
   "cell_type": "code",
   "execution_count": 24,
   "metadata": {},
   "outputs": [
    {
     "name": "stdout",
     "output_type": "stream",
     "text": [
      "2.9961698332706694\n",
      "Wall time: 56min 33s\n"
     ]
    }
   ],
   "source": [
    "%%time\n",
    "lens = []\n",
    "with open('stihi.ru_rhyme_corpus.txt', encoding='UTF-8') as f:\n",
    "    for line in f:\n",
    "        words = word_tokenize(line) \n",
    "        lens.append(len(words))\n",
    "print(statistics.mean(lens))"
   ]
  },
  {
   "cell_type": "markdown",
   "metadata": {},
   "source": [
    "### Rhymes of the same part of speech through the corpus"
   ]
  },
  {
   "cell_type": "code",
   "execution_count": 39,
   "metadata": {},
   "outputs": [
    {
     "name": "stdout",
     "output_type": "stream",
     "text": [
      "10000\n"
     ]
    }
   ],
   "source": [
    "top_words = model_rhyme_5.wv.index2entity[:100000:10]\n",
    "print(len(top_words))"
   ]
  },
  {
   "cell_type": "code",
   "execution_count": 40,
   "metadata": {},
   "outputs": [],
   "source": [
    "parts = numpy.array_split(numpy.array(top_words), 20)"
   ]
  },
  {
   "cell_type": "code",
   "execution_count": 41,
   "metadata": {},
   "outputs": [],
   "source": [
    "x = []\n",
    "y = []\n",
    "for p, i in enumerate(parts):\n",
    "    x.append(p+1)\n",
    "for part in parts:\n",
    "    same_pos = 0\n",
    "    for w in part:\n",
    "        top = model_rhyme_5.wv.most_similar(w, topn=10)\n",
    "        sim_pos = 0\n",
    "        pos_tag = morph.parse(w)[0].tag.POS\n",
    "        for t, n in top:\n",
    "            if pos_tag == morph.parse(t)[0].tag.POS:\n",
    "                sim_pos += 1\n",
    "        if sim_pos == 10:\n",
    "            same_pos += 1\n",
    "    y.append(same_pos / len(part) * 100)"
   ]
  },
  {
   "cell_type": "code",
   "execution_count": 42,
   "metadata": {},
   "outputs": [
    {
     "data": {
      "image/png": "[encoded data removed]",
      "text/plain": [
       "<Figure size 432x288 with 1 Axes>"
      ]
     },
     "metadata": {
      "needs_background": "light"
     },
     "output_type": "display_data"
    }
   ],
   "source": [
    "plt.plot(x, y, color='black')\n",
    "plt.title('Рифмы одной части речи')\n",
    "plt.ylabel('Совпадающие, %')\n",
    "plt.xlabel('Часть')\n",
    "plt.show()"
   ]
  },
  {
   "cell_type": "markdown",
   "metadata": {},
   "source": [
    "#### Rhymes of the same part of speech: every 1000th word"
   ]
  },
  {
   "cell_type": "code",
   "execution_count": 51,
   "metadata": {},
   "outputs": [],
   "source": [
    "def make_autopct(values):\n",
    "       def my_autopct(pct):\n",
    "           total = sum(values)\n",
    "           val = int(round(pct*total/100.0))\n",
    "           return '{p:.2f}%  ({v:d})'.format(p=pct,v=val)\n",
    "       return my_autopct"
   ]
  },
  {
   "cell_type": "code",
   "execution_count": 45,
   "metadata": {},
   "outputs": [],
   "source": [
    "border={\n",
    "    'edgecolor':'0',\n",
    "    'linewidth': 1,\n",
    "    'linestyle': 'solid'}\n",
    "white = {'white', 'white'}"
   ]
  },
  {
   "cell_type": "code",
   "execution_count": 47,
   "metadata": {},
   "outputs": [],
   "source": [
    "pos = {}\n",
    "top_words = model_stihi_rhyme.wv.index2entity[:100000:1000]\n",
    "for w in top_words:\n",
    "    top = model_rhyme_5.wv.most_similar(w, topn=10)\n",
    "    sim_pos = 0\n",
    "    for t, n in top:\n",
    "        if morph.parse(w)[0].tag.POS == morph.parse(t)[0].tag.POS:\n",
    "            sim_pos += 1\n",
    "            pos[w] = sim_pos/len(top)\n",
    "same_pos_rhymes = []\n",
    "for key, value in pos.items():\n",
    "    if 1.0 == value:\n",
    "        same_pos_rhymes.append(key)"
   ]
  },
  {
   "cell_type": "code",
   "execution_count": null,
   "metadata": {},
   "outputs": [],
   "source": [
    "stat = {}\n",
    "for word in same_pos_rhymes:\n",
    "    pos = morph.parse(word)[0].tag.POS\n",
    "    if pos == None:\n",
    "        print(word)\n",
    "    if pos not in stat:\n",
    "        stat[pos] = 0\n",
    "    stat[pos] += 1"
   ]
  },
  {
   "cell_type": "code",
   "execution_count": 52,
   "metadata": {},
   "outputs": [
    {
     "data": {
      "image/png": "[encoded data removed]",
      "text/plain": [
       "<Figure size 360x360 with 1 Axes>"
      ]
     },
     "metadata": {},
     "output_type": "display_data"
    }
   ],
   "source": [
    "poses = []\n",
    "for i in list(stat.keys()):\n",
    "    poses.append(str(i))\n",
    "number = list(stat.values())\n",
    "plt.figure(figsize=(5,5))\n",
    "plt.pie(number, labels=poses, autopct=make_autopct(number), colors=white, wedgeprops=border)\n",
    "plt.show()"
   ]
  },
  {
   "cell_type": "markdown",
   "metadata": {},
   "source": [
    "#### Rhymes of the same part of speech: top-100 frequent words"
   ]
  },
  {
   "cell_type": "code",
   "execution_count": null,
   "metadata": {},
   "outputs": [],
   "source": [
    "pos = {}\n",
    "top_words = model_stihi_rhyme.wv.index2entity[:100]\n",
    "for w in top_words:\n",
    "    top = model_stihi_rhyme.wv.most_similar(w, topn=10)\n",
    "    sim_pos = 0\n",
    "    for t, n in top:\n",
    "        if morph.parse(w)[0].tag.POS == morph.parse(t)[0].tag.POS:\n",
    "            sim_pos += 1\n",
    "            pos[w] = sim_pos/len(top)\n",
    "same_pos_rhymes = []\n",
    "for key, value in pos.items():\n",
    "    if 1.0 == value:\n",
    "        same_pos_rhymes.append(key)"
   ]
  },
  {
   "cell_type": "code",
   "execution_count": null,
   "metadata": {},
   "outputs": [],
   "source": [
    "stat = {}\n",
    "for word in same_pos_rhymes:\n",
    "    pos = morph.parse(word)[0].tag.POS\n",
    "    if pos not in stat:\n",
    "        stat[pos] = 0\n",
    "    stat[pos] += 1"
   ]
  },
  {
   "cell_type": "code",
   "execution_count": 55,
   "metadata": {
    "scrolled": true
   },
   "outputs": [
    {
     "data": {
      "image/png": "[encoded data removed]",
      "text/plain": [
       "<Figure size 360x360 with 1 Axes>"
      ]
     },
     "metadata": {},
     "output_type": "display_data"
    }
   ],
   "source": [
    "poses = []\n",
    "for i in list(stat.keys()):\n",
    "    poses.append(str(i))\n",
    "number = list(stat.values())\n",
    "plt.figure(figsize=(5,5))\n",
    "plt.pie(number, labels=poses, autopct=make_autopct(number), colors=white, wedgeprops=border)\n",
    "plt.show()"
   ]
  },
  {
   "cell_type": "markdown",
   "metadata": {},
   "source": [
    "# Tagged corpus vector models"
   ]
  },
  {
   "cell_type": "code",
   "execution_count": 4,
   "metadata": {},
   "outputs": [],
   "source": [
    "model_base_rh = gensim.models.KeyedVectors.load_word2vec_format('model_stihi.ruRHYMEDWIN5.bin', binary=True)\n",
    "model_base_rh2 = gensim.models.KeyedVectors.load_word2vec_format('model_stihi.ruRHYMEDWIN2.bin', binary=True)\n",
    "model_base_rh8 = gensim.models.KeyedVectors.load_word2vec_format('model_stihi.ruRHYMEDWIN8.bin', binary=True)\n",
    "model_base_rh15 = gensim.models.KeyedVectors.load_word2vec_format('model_stihi.ruRHYMEDWIN15.bin', binary=True)"
   ]
  },
  {
   "cell_type": "code",
   "execution_count": 102,
   "metadata": {},
   "outputs": [
    {
     "data": {
      "text/plain": [
       "22535"
      ]
     },
     "execution_count": 102,
     "metadata": {},
     "output_type": "execute_result"
    }
   ],
   "source": [
    "len(model_base_rh.wv.index2entity)"
   ]
  },
  {
   "cell_type": "code",
   "execution_count": 105,
   "metadata": {},
   "outputs": [
    {
     "data": {
      "text/plain": [
       "9297"
      ]
     },
     "execution_count": 105,
     "metadata": {},
     "output_type": "execute_result"
    }
   ],
   "source": [
    "tagged = 0\n",
    "for token in model_base_rh.wv.index2entity:\n",
    "    if '/RHYME' in token:\n",
    "        tagged += 1\n",
    "tagged"
   ]
  },
  {
   "cell_type": "code",
   "execution_count": 106,
   "metadata": {},
   "outputs": [
    {
     "data": {
      "text/plain": [
       "13238"
      ]
     },
     "execution_count": 106,
     "metadata": {},
     "output_type": "execute_result"
    }
   ],
   "source": [
    "len(model_base_rh.wv.index2entity) - tagged"
   ]
  },
  {
   "cell_type": "markdown",
   "metadata": {},
   "source": [
    "### Different windows"
   ]
  },
  {
   "cell_type": "code",
   "execution_count": 7,
   "metadata": {},
   "outputs": [],
   "source": [
    "def check(word):\n",
    "    result = morph.parse(word)\n",
    "    first = result[0]\n",
    "    if first.tag.POS == 'PREP' \\\n",
    "            or first.tag.POS == 'CONJ' \\\n",
    "            or first.tag.POS == 'PRCL':\n",
    "        return False\n",
    "    else:\n",
    "        return True"
   ]
  },
  {
   "cell_type": "code",
   "execution_count": 73,
   "metadata": {},
   "outputs": [
    {
     "name": "stdout",
     "output_type": "stream",
     "text": [
      "True\n"
     ]
    }
   ],
   "source": [
    "print(check('я'))"
   ]
  },
  {
   "cell_type": "markdown",
   "metadata": {},
   "source": [
    "#### A table with first examples"
   ]
  },
  {
   "cell_type": "code",
   "execution_count": 5,
   "metadata": {},
   "outputs": [],
   "source": [
    "cols_rhymed = {}"
   ]
  },
  {
   "cell_type": "code",
   "execution_count": 8,
   "metadata": {},
   "outputs": [],
   "source": [
    "top_words = []\n",
    "for word in model_base_rh.wv.index2entity[:50]:\n",
    "    if check(word) == True:\n",
    "        top_words.append(word)\n",
    "    if len(top_words) == 10:\n",
    "        break\n",
    "cols_rhymed['Слово'] = top_words\n",
    "res2 = []\n",
    "for i in top_words:\n",
    "    tops = []\n",
    "    for t, n in model_base_rh2.wv.most_similar(i, topn=3):\n",
    "        tops.append(t)\n",
    "    res2.append(', '.join(tops))\n",
    "cols_rhymed['Окно 2'] = res2\n",
    "\n",
    "res5 = []\n",
    "for i in top_words:\n",
    "    tops = []\n",
    "    for t, n in model_base_rh.wv.most_similar(i, topn=3):\n",
    "        tops.append(t)\n",
    "    res5.append(', '.join(tops))\n",
    "cols_rhymed['Окно 5'] = res5\n",
    "\n",
    "res8 = []\n",
    "for i in top_words:\n",
    "    tops = []\n",
    "    for t, n in model_base_rh8.wv.most_similar(i, topn=3):\n",
    "        tops.append(t)\n",
    "    res8.append(', '.join(tops))\n",
    "cols_rhymed['Окно 8'] = res8\n",
    "\n",
    "res15 = []\n",
    "for i in top_words:\n",
    "    tops = []\n",
    "    for t, n in model_base_rh15.wv.most_similar(i, topn=3):\n",
    "        tops.append(t)\n",
    "    res15.append(', '.join(tops))\n",
    "cols_rhymed['Окно 15'] = res15"
   ]
  },
  {
   "cell_type": "code",
   "execution_count": 9,
   "metadata": {},
   "outputs": [
    {
     "data": {
      "text/html": [
       "<div>\n",
       "<style scoped>\n",
       "    .dataframe tbody tr th:only-of-type {\n",
       "        vertical-align: middle;\n",
       "    }\n",
       "\n",
       "    .dataframe tbody tr th {\n",
       "        vertical-align: top;\n",
       "    }\n",
       "\n",
       "    .dataframe thead th {\n",
       "        text-align: right;\n",
       "    }\n",
       "</style>\n",
       "<table border=\"1\" class=\"dataframe\">\n",
       "  <thead>\n",
       "    <tr style=\"text-align: right;\">\n",
       "      <th></th>\n",
       "      <th>Слово</th>\n",
       "      <th>Окно 2</th>\n",
       "      <th>Окно 5</th>\n",
       "      <th>Окно 8</th>\n",
       "      <th>Окно 15</th>\n",
       "    </tr>\n",
       "  </thead>\n",
       "  <tbody>\n",
       "    <tr>\n",
       "      <th>0</th>\n",
       "      <td>я</td>\n",
       "      <td>ты, он, я/RHYME</td>\n",
       "      <td>ты, я/RHYME, хотеть</td>\n",
       "      <td>ты, я/RHYME, хотеть</td>\n",
       "      <td>ты, я/RHYME, ты/RHYME</td>\n",
       "    </tr>\n",
       "    <tr>\n",
       "      <th>1</th>\n",
       "      <td>ты</td>\n",
       "      <td>она, он, вы</td>\n",
       "      <td>я, ты/RHYME, она</td>\n",
       "      <td>я, ты/RHYME, хотеть</td>\n",
       "      <td>я, ты/RHYME, хотеть</td>\n",
       "    </tr>\n",
       "    <tr>\n",
       "      <th>2</th>\n",
       "      <td>быть</td>\n",
       "      <td>быть/RHYME, оказываться, становиться</td>\n",
       "      <td>быть/RHYME, оказываться, становиться</td>\n",
       "      <td>быть/RHYME, оказываться, жить</td>\n",
       "      <td>быть/RHYME, всегда, ведь</td>\n",
       "    </tr>\n",
       "    <tr>\n",
       "      <th>3</th>\n",
       "      <td>мы</td>\n",
       "      <td>они, мы/RHYME, он</td>\n",
       "      <td>мы/RHYME, они, порознь</td>\n",
       "      <td>мы/RHYME, порознь, они</td>\n",
       "      <td>мы/RHYME, порознь, вместе</td>\n",
       "    </tr>\n",
       "    <tr>\n",
       "      <th>4</th>\n",
       "      <td>все</td>\n",
       "      <td>все/RHYME, многое, так</td>\n",
       "      <td>все/RHYME, весь, многое</td>\n",
       "      <td>все/RHYME, весь, так</td>\n",
       "      <td>весь, все/RHYME, так</td>\n",
       "    </tr>\n",
       "    <tr>\n",
       "      <th>5</th>\n",
       "      <td>он</td>\n",
       "      <td>она, они, ты</td>\n",
       "      <td>она, он/RHYME, ты</td>\n",
       "      <td>он/RHYME, она, бедняга</td>\n",
       "      <td>он/RHYME, его, бедняга</td>\n",
       "    </tr>\n",
       "    <tr>\n",
       "      <th>6</th>\n",
       "      <td>мой</td>\n",
       "      <td>твой, мой/RHYME, ваш</td>\n",
       "      <td>твой, мой/RHYME, твой/RHYME</td>\n",
       "      <td>твой, мой/RHYME, твой/RHYME</td>\n",
       "      <td>твой, мой/RHYME, твой/RHYME</td>\n",
       "    </tr>\n",
       "    <tr>\n",
       "      <th>7</th>\n",
       "      <td>весь</td>\n",
       "      <td>весь/RHYME, все, многий</td>\n",
       "      <td>весь/RHYME, все, все/RHYME</td>\n",
       "      <td>весь/RHYME, все, все/RHYME</td>\n",
       "      <td>весь/RHYME, все, все/RHYME</td>\n",
       "    </tr>\n",
       "    <tr>\n",
       "      <th>8</th>\n",
       "      <td>она</td>\n",
       "      <td>он, они, ты</td>\n",
       "      <td>он, она/RHYME, ты</td>\n",
       "      <td>она/RHYME, он, ее</td>\n",
       "      <td>она/RHYME, ее, он</td>\n",
       "    </tr>\n",
       "    <tr>\n",
       "      <th>9</th>\n",
       "      <td>твой</td>\n",
       "      <td>ее, его, мой</td>\n",
       "      <td>твой/RHYME, мой, ее</td>\n",
       "      <td>твой/RHYME, мой, нежный</td>\n",
       "      <td>твой/RHYME, мой, нежный</td>\n",
       "    </tr>\n",
       "  </tbody>\n",
       "</table>\n",
       "</div>"
      ],
      "text/plain": [
       "  Слово                                Окно 2  \\\n",
       "0     я                       ты, он, я/RHYME   \n",
       "1    ты                           она, он, вы   \n",
       "2  быть  быть/RHYME, оказываться, становиться   \n",
       "3    мы                     они, мы/RHYME, он   \n",
       "4   все                все/RHYME, многое, так   \n",
       "5    он                          она, они, ты   \n",
       "6   мой                  твой, мой/RHYME, ваш   \n",
       "7  весь               весь/RHYME, все, многий   \n",
       "8   она                           он, они, ты   \n",
       "9  твой                          ее, его, мой   \n",
       "\n",
       "                                 Окно 5                         Окно 8  \\\n",
       "0                   ты, я/RHYME, хотеть            ты, я/RHYME, хотеть   \n",
       "1                      я, ты/RHYME, она            я, ты/RHYME, хотеть   \n",
       "2  быть/RHYME, оказываться, становиться  быть/RHYME, оказываться, жить   \n",
       "3                мы/RHYME, они, порознь         мы/RHYME, порознь, они   \n",
       "4               все/RHYME, весь, многое           все/RHYME, весь, так   \n",
       "5                     она, он/RHYME, ты         он/RHYME, она, бедняга   \n",
       "6           твой, мой/RHYME, твой/RHYME    твой, мой/RHYME, твой/RHYME   \n",
       "7            весь/RHYME, все, все/RHYME     весь/RHYME, все, все/RHYME   \n",
       "8                     он, она/RHYME, ты              она/RHYME, он, ее   \n",
       "9                   твой/RHYME, мой, ее        твой/RHYME, мой, нежный   \n",
       "\n",
       "                       Окно 15  \n",
       "0        ты, я/RHYME, ты/RHYME  \n",
       "1          я, ты/RHYME, хотеть  \n",
       "2     быть/RHYME, всегда, ведь  \n",
       "3    мы/RHYME, порознь, вместе  \n",
       "4         весь, все/RHYME, так  \n",
       "5       он/RHYME, его, бедняга  \n",
       "6  твой, мой/RHYME, твой/RHYME  \n",
       "7   весь/RHYME, все, все/RHYME  \n",
       "8            она/RHYME, ее, он  \n",
       "9      твой/RHYME, мой, нежный  "
      ]
     },
     "execution_count": 9,
     "metadata": {},
     "output_type": "execute_result"
    }
   ],
   "source": [
    "titles = ['Слово', 'Окно 2', 'Окно 5', 'Окно 8', 'Окно 15']\n",
    "df_rhymed = pd.DataFrame(cols_rhymed)\n",
    "df_rhymed = df_rhymed.reindex(columns=titles)\n",
    "df_rhymed"
   ]
  },
  {
   "cell_type": "markdown",
   "metadata": {},
   "source": [
    "#### % of intersection"
   ]
  },
  {
   "cell_type": "code",
   "execution_count": 80,
   "metadata": {},
   "outputs": [
    {
     "name": "stdout",
     "output_type": "stream",
     "text": [
      "Из первых 1000 слов у всех окон пересекаются: 60.199999999999996 %\n",
      "Из первых 1000 слов у окон 2 и 5 пересекаются: 90.7 %\n",
      "Из первых 1000 слов у окон 5 и 8 пересекаются: 97.8 %\n",
      "Из первых 1000 слов у окон 8 и 15 пересекаются: 95.39999999999999 %\n",
      "Wall time: 11.8 s\n"
     ]
    }
   ],
   "source": [
    "%%time\n",
    "vocab = model_base_rh2.wv.index2entity[:1000]\n",
    "intersect = 0\n",
    "intersect25 = 0\n",
    "intersect58 = 0\n",
    "intersect815 = 0\n",
    "for word in vocab:\n",
    "    w2 = []\n",
    "    for t, n in model_base_rh2.wv.most_similar(word, topn=3):\n",
    "        w2.append(t)\n",
    "    w5 = []\n",
    "    for t, n in model_base_rh.wv.most_similar(word, topn=3):\n",
    "        w5.append(t)\n",
    "    w8 = []\n",
    "    for t, n in model_base_rh8.wv.most_similar(word, topn=3):\n",
    "        w8.append(t)\n",
    "    w15 = []\n",
    "    for t, n in model_base_rh15.wv.most_similar(word, topn=3):\n",
    "        w15.append(t)\n",
    "    if len(set(w2) & set(w5) & set(w8) & set(w15)) >= 2:\n",
    "        intersect +=1\n",
    "    if len(set(w2) & set(w5)) >= 2:\n",
    "        intersect25 +=1\n",
    "    if len(set(w5) & set(w8)) >= 2:\n",
    "        intersect58 +=1\n",
    "    if len(set(w8) & set(w15)) >= 2:\n",
    "        intersect815 +=1\n",
    "print('Из первых %d слов у всех окон пересекаются:' % (len(vocab)), intersect / len(vocab) * 100, '%')\n",
    "print('Из первых %d слов у окон 2 и 5 пересекаются:' % (len(vocab)), intersect25 / len(vocab) * 100, '%')\n",
    "print('Из первых %d слов у окон 5 и 8 пересекаются:' % (len(vocab)), intersect58 / len(vocab) * 100, '%')\n",
    "print('Из первых %d слов у окон 8 и 15 пересекаются:' % (len(vocab)), intersect815 / len(vocab) * 100, '%')"
   ]
  },
  {
   "cell_type": "markdown",
   "metadata": {},
   "source": [
    "#### Effect of rhyme through the corpus"
   ]
  },
  {
   "cell_type": "code",
   "execution_count": 81,
   "metadata": {},
   "outputs": [
    {
     "data": {
      "text/plain": [
       "22535"
      ]
     },
     "execution_count": 81,
     "metadata": {},
     "output_type": "execute_result"
    }
   ],
   "source": [
    "slice_tagged = model_base_rh2.wv.index2entity\n",
    "len(slice_tagged)"
   ]
  },
  {
   "cell_type": "code",
   "execution_count": 82,
   "metadata": {},
   "outputs": [],
   "source": [
    "parts = numpy.array_split(numpy.array(slice_tagged), 20)"
   ]
  },
  {
   "cell_type": "code",
   "execution_count": 84,
   "metadata": {},
   "outputs": [
    {
     "name": "stdout",
     "output_type": "stream",
     "text": [
      "В каждой части по 1127 слов\n"
     ]
    }
   ],
   "source": [
    "print('В каждой части по %d слов' % len(parts[1]))"
   ]
  },
  {
   "cell_type": "code",
   "execution_count": 87,
   "metadata": {},
   "outputs": [],
   "source": [
    "x = []\n",
    "y2 = []\n",
    "for p, i in enumerate(parts):\n",
    "    x.append(p+1)\n",
    "for part in parts:\n",
    "    same = []\n",
    "    for t in part:\n",
    "        for w, n in model_base_rh2.wv.most_similar(t, topn=1):\n",
    "            if t+'/RHYME' == w:\n",
    "                same.append(t)\n",
    "    y2.append(len(same) / len(part) * 100)"
   ]
  },
  {
   "cell_type": "code",
   "execution_count": 88,
   "metadata": {},
   "outputs": [],
   "source": [
    "y5 = []\n",
    "for part in parts:\n",
    "    same = []\n",
    "    for t in part:\n",
    "        for w, n in model_base_rh.wv.most_similar(t, topn=1):\n",
    "            if t+'/RHYME' == w:\n",
    "                same.append(t)\n",
    "    y5.append(len(same) / len(part) * 100)"
   ]
  },
  {
   "cell_type": "code",
   "execution_count": 89,
   "metadata": {},
   "outputs": [],
   "source": [
    "y8 = []\n",
    "for part in parts:\n",
    "    same = []\n",
    "    for t in part:\n",
    "        for w, n in model_base_rh8.wv.most_similar(t, topn=1):\n",
    "            if t+'/RHYME' == w:\n",
    "                same.append(t)\n",
    "    y8.append(len(same) / len(part) * 100)"
   ]
  },
  {
   "cell_type": "code",
   "execution_count": 90,
   "metadata": {},
   "outputs": [],
   "source": [
    "y15 = []\n",
    "for part in parts:\n",
    "    same = []\n",
    "    for t in part:\n",
    "        for w, n in model_base_rh15.wv.most_similar(t, topn=1):\n",
    "            if t+'/RHYME' == w:\n",
    "                same.append(t)\n",
    "    y15.append(len(same) / len(part) * 100)"
   ]
  },
  {
   "cell_type": "code",
   "execution_count": 92,
   "metadata": {},
   "outputs": [
    {
     "data": {
      "image/png": "[encoded data removed]",
      "text/plain": [
       "<Figure size 432x288 with 1 Axes>"
      ]
     },
     "metadata": {
      "needs_background": "light"
     },
     "output_type": "display_data"
    }
   ],
   "source": [
    "plt.plot(x, y2, label='Окно 2', linestyle='dashed', color='black')\n",
    "plt.plot(x, y5, label='Окно 5', linestyle='solid', color='black')\n",
    "plt.plot(x, y8, label='Окно 8', linestyle='dashdot', color='black')\n",
    "plt.plot(x, y15, label='Окно 15', linestyle='dotted', color='black')\n",
    "plt.ylabel('Совпадающие, % от всех слова в части')\n",
    "plt.xlabel('Часть')\n",
    "plt.legend()\n",
    "plt.show()"
   ]
  },
  {
   "cell_type": "markdown",
   "metadata": {},
   "source": [
    "#### Effect of rhyme on top-100 frequent words"
   ]
  },
  {
   "cell_type": "code",
   "execution_count": 86,
   "metadata": {},
   "outputs": [
    {
     "data": {
      "image/png": "[encoded data removed]",
      "text/plain": [
       "<Figure size 360x360 with 1 Axes>"
      ]
     },
     "metadata": {},
     "output_type": "display_data"
    }
   ],
   "source": [
    "same = []\n",
    "for t in slice_tagged[:100]:\n",
    "    for w, n in model_base_rh15.wv.most_similar(t, topn=1):\n",
    "        if t+'/RHYME' == w:\n",
    "            same.append(t)\n",
    "X = [len(slice_tagged[:100])-len(same), len(same)]\n",
    "Y = ['Не совпало с тегом', 'Совпало с тегом']\n",
    "plt.figure(figsize=(5,5))\n",
    "plt.pie(X, labels=Y, autopct=make_autopct(X), colors=white, wedgeprops=border)\n",
    "plt.show()"
   ]
  },
  {
   "cell_type": "markdown",
   "metadata": {},
   "source": [
    "#### Effect of semantics through the corpus"
   ]
  },
  {
   "cell_type": "code",
   "execution_count": 93,
   "metadata": {},
   "outputs": [],
   "source": [
    "corp = model_base_rh.wv.index2entity\n",
    "parts = numpy.array_split(numpy.array(corp), 20)"
   ]
  },
  {
   "cell_type": "code",
   "execution_count": 94,
   "metadata": {},
   "outputs": [],
   "source": [
    "x = []\n",
    "y2 = []\n",
    "for p, i in enumerate(parts):\n",
    "    x.append(p+1)\n",
    "for part in parts:\n",
    "    s = 0\n",
    "    for word in part:\n",
    "        if '/RHYME' in word:\n",
    "            c = 0\n",
    "            for i, w in enumerate(model_base_rh2.wv.most_similar(word, topn=3)):\n",
    "                if '/RHYME' in w[0]:\n",
    "                    c += 1\n",
    "            if c == 3:\n",
    "                s += 1\n",
    "    y2.append(s / len(part) * 100)"
   ]
  },
  {
   "cell_type": "code",
   "execution_count": 95,
   "metadata": {},
   "outputs": [],
   "source": [
    "y5 = []\n",
    "for part in parts:\n",
    "    s = 0\n",
    "    for word in part:\n",
    "        if '/RHYME' in word:\n",
    "            c = 0\n",
    "            for i, w in enumerate(model_base_rh.wv.most_similar(word, topn=3)):\n",
    "                if '/RHYME' in w[0]:\n",
    "                    c += 1\n",
    "            if c == 3:\n",
    "                s += 1\n",
    "    y5.append(s / len(part) * 100)"
   ]
  },
  {
   "cell_type": "code",
   "execution_count": 96,
   "metadata": {},
   "outputs": [],
   "source": [
    "y8 = []\n",
    "for part in parts:\n",
    "    s = 0\n",
    "    for word in part:\n",
    "        if '/RHYME' in word:\n",
    "            c = 0\n",
    "            for i, w in enumerate(model_base_rh8.wv.most_similar(word, topn=3)):\n",
    "                if '/RHYME' in w[0]:\n",
    "                    c += 1\n",
    "            if c == 3:\n",
    "                s += 1\n",
    "    y8.append(s / len(part) * 100)"
   ]
  },
  {
   "cell_type": "code",
   "execution_count": 97,
   "metadata": {},
   "outputs": [],
   "source": [
    "y15 = []\n",
    "for part in parts:\n",
    "    s = 0\n",
    "    for word in part:\n",
    "        if '/RHYME' in word:\n",
    "            r = \n",
    "            c = 0\n",
    "            for i, w in enumerate(model_base_rh15.wv.most_similar(word, topn=3)):\n",
    "                if '/RHYME' in w[0]:\n",
    "                    c += 1\n",
    "            if c == 3:\n",
    "                s += 1\n",
    "    y15.append(s / len(part) * 100)"
   ]
  },
  {
   "cell_type": "code",
   "execution_count": 99,
   "metadata": {},
   "outputs": [
    {
     "data": {
      "image/png": "[encoded data removed]",
      "text/plain": [
       "<Figure size 432x288 with 1 Axes>"
      ]
     },
     "metadata": {
      "needs_background": "light"
     },
     "output_type": "display_data"
    }
   ],
   "source": [
    "plt.plot(x, y2, label='Окно 2', linestyle='dashed', color='black')\n",
    "plt.plot(x, y5, label='Окно 5', linestyle='solid', color='black')\n",
    "plt.plot(x, y8, label='Окно 8', linestyle='dashdot', color='black')\n",
    "plt.plot(x, y15, label='Окно 15', linestyle='dotted', color='black')\n",
    "plt.ylabel('Доля слов в % от всех слов в части')\n",
    "plt.xlabel('Часть')\n",
    "plt.legend()\n",
    "plt.show()"
   ]
  },
  {
   "cell_type": "markdown",
   "metadata": {},
   "source": [
    "### Vocabulary of the models"
   ]
  },
  {
   "cell_type": "markdown",
   "metadata": {},
   "source": [
    "#### Comparison of top frequent words of different corpora"
   ]
  },
  {
   "cell_type": "code",
   "execution_count": 71,
   "metadata": {},
   "outputs": [],
   "source": [
    "model_stihi_base = gensim.models.KeyedVectors.load_word2vec_format('model_stihi.ruWIN5.bin', binary=True)\n",
    "model_base_rh = gensim.models.KeyedVectors.load_word2vec_format('model_stihi.ruRHYMEDWIN5.bin', binary=True)\n",
    "model_poetic = gensim.models.KeyedVectors.load_word2vec_format('poetic_ruscorp.bin', binary=True)\n",
    "model_prose = gensim.models.KeyedVectors.load_word2vec_format('model_prose.bin', binary=True)"
   ]
  },
  {
   "cell_type": "code",
   "execution_count": 74,
   "metadata": {},
   "outputs": [],
   "source": [
    "top_base = []\n",
    "for w in model_stihi_base.wv.index2entity[:150]:\n",
    "    if check(w) == True:\n",
    "        top_base.append(w)\n",
    "    if len(top_base) == 100:\n",
    "        break\n",
    "top_tagged = []\n",
    "for w in model_base_rh.wv.index2entity[:150]:\n",
    "    if check(w) == True:\n",
    "        top_tagged.append(w)\n",
    "    if len(top_tagged) == 100:\n",
    "        break\n",
    "top_poetic = []\n",
    "for w in model_poetic.wv.index2entity[:150]:\n",
    "    if check(w) == True:\n",
    "        top_poetic.append(w)\n",
    "    if len(top_poetic) == 100:\n",
    "        break\n",
    "top_prose = []\n",
    "for w in model_prose.wv.index2entity[:150]:\n",
    "    if check(w) == True:\n",
    "        top_prose.append(w)\n",
    "    if len(top_prose) == 100:\n",
    "        break\n"
   ]
  },
  {
   "cell_type": "code",
   "execution_count": 75,
   "metadata": {},
   "outputs": [
    {
     "name": "stdout",
     "output_type": "stream",
     "text": [
      "['я', 'ты', 'быть', 'мы', 'все', 'он', 'мой', 'весь', 'она', 'твой', 'свой', 'жизнь', 'любовь', 'душа', 'они', 'этот', 'тот', 'сердце', 'себя', 'нет', 'знать', 'кто', 'вы', 'любить', 'один', 'день', 'где', 'мочь', 'глаз', 'становиться', 'мир', 'жить', 'небо', 'хотеть', 'ночь', 'свет', 'слово', 'рука', 'наш', 'друг', 'год', 'давать', 'человек', 'уже', 'там', 'уходить', 'сон', 'такой', 'сказать', 'забывать', 'время', 'ждать', 'идти', 'понимать', 'ветер', 'счастие', 'каждый', 'земля', 'судьба', 'снова', 'другой', 'оставаться', 'бог', 'солнце', 'видеть', 'теперь', 'сам', 'боль', 'здесь', 'много', 'путь', 'вновь', 'мысль', 'всегда', 'слеза', 'который', 'говорить', 'звезда', 'смотреть', 'мечта', 'пора', 'окно', 'прощать', 'сила', 'находить', 'дождь', 'надо', 'верить', 'дорога', 'вдруг', 'опять', 'белый', 'раз', 'новый', 'взгляд', 'утро', 'дом', 'уж', 'огонь', 'стих'] \n",
      "\n",
      " ['я', 'ты', 'быть', 'мы', 'все', 'он', 'мой', 'весь', 'она', 'твой', 'свой', 'они', 'этот', 'жизнь', 'тот', 'кто', 'душа', 'я/RHYME', 'любовь', 'вы', 'сердце', 'где', 'ты/RHYME', 'знать', 'себя', 'нет', 'мочь', 'становиться', 'один', 'хотеть', 'наш', 'мир', 'любить', 'день', 'уже', 'жить', 'там', 'небо', 'ночь', 'давать', 'такой', 'глаз', 'друг', 'каждый', 'сказать', 'любовь/RHYME', 'время', 'быть/RHYME', 'уходить', 'слово', 'идти', 'свет', 'рука', 'теперь', 'человек', 'снова', 'видеть', 'здесь', 'душа/RHYME', 'много', 'который', 'ждать', 'забывать', 'ветер', 'счастие', 'солнце', 'сам', 'любить/RHYME', 'оставаться', 'свет/RHYME', 'глаз/RHYME', 'год/RHYME', 'год', 'сон/RHYME', 'день/RHYME', 'вновь', 'уж', 'рука/RHYME', 'смотреть', 'понимать', 'вдруг', 'мысль', 'другой', 'слово/RHYME', 'всегда', 'новый', 'бог', 'мы/RHYME', 'белый', 'боль', 'кто-то', 'мой/RHYME', 'опять', 'очень', 'один/RHYME', 'сон', 'себя/RHYME', 'судьба', 'его', 'земля'] \n",
      "\n",
      " ['я', 'ты', 'он', 'быть', 'мы', 'мой', 'все', 'она', 'они', 'весь', 'свой', 'твой', 'вы', 'тот', 'где', 'день', 'этот', 'сердце', 'душа', 'кто', 'один', 'нет', 'рука', 'жизнь', 'небо', 'там', 'знать', 'наш', 'ночь', 'земля', 'мочь', 'мир', 'себя', 'свет', 'любовь', 'друг', 'человек', 'идти', 'давать', 'становиться', 'сон', 'глаз', 'жить', 'сказать', 'год', 'видеть', 'любить', 'бог', 'уж', 'здесь', 'сам', 'слово', 'его', 'говорить', 'такой', 'солнце', 'огонь', 'петь', 'другой', 'вода', 'ветер', 'сила', 'час', 'хотеть', 'милый', 'белый', 'путь', 'который', 'вдруг', 'стоять', 'тень', 'какой', 'смерть', 'море', 'звезда', 'грудь', 'дом', 'слеза', 'кровь', 'теперь', 'их', 'каждый', 'сей', 'черный', 'лес', 'лицо', 'поле', 'два', 'волна', 'пора', 'песня', 'взор', 'время', 'новый', 'ждать', 'век', 'много', 'уже', 'забывать', 'счастие'] \n",
      "\n",
      " ['так_ADV', 'быть_VERB', 'мочь_VERB', 'год_NOUN', 'человек_NOUN', 'xxxxxx_NUM', 'сказать_VERB', 'еще_ADV', 'один_NUM', 'говорить_VERB', 'уже_ADV', 'другой_ADJ', 'время_NOUN', 'xxxxxxxx_NUM', 'знать_VERB', 'сам_ADJ', 'самый_ADJ', 'делать_VERB', 'дело_NOUN', 'день_NOUN', 'жизнь_NOUN', 'видеть_VERB', 'как_ADV', 'рука_NOUN', 'очень_ADV', 'два_NUM', 'первый_ADJ', 'новый_ADJ', 'давать_VERB', 'где_ADV', 'слово_NOUN', 'становиться_VERB', 'теперь_ADV', 'раз_NOUN', 'должен_ADJ', 'иметь_VERB', 'идти_VERB', 'большой_ADJ', 'там_ADV', 'можно_ADV', 'глаз_NOUN', 'xxxxxxx_NUM', 'лицо_NOUN', 'хотеть_VERB', 'место_NOUN', 'понимать_VERB', 'более_ADV', 'смотреть_VERB', 'потом_ADV', 'каждый_ADJ', 'нет_VERB', 'работа_NOUN', 'казаться_VERB', 'тогда_ADV', 'писать_VERB', 'здесь_ADV', 'тут_ADV', 'голова_NOUN', 'оставаться_VERB', 'надо_ADV', 'сторона_NOUN', 'потому_ADV', 'друг_NOUN', 'спрашивать_VERB', 'думать_VERB', 'брать_VERB', 'начинать_VERB', 'жить_VERB', 'дом_NOUN', 'приходить_VERB', 'выходить_VERB', 'последний_ADJ', 'получать_VERB', 'хороший_ADJ', 'много_ADV', 'сила_NOUN', 'какой-то_ADJ', 'несколько_NUM', 'стоять_VERB', 'нужный_ADJ', 'город_NOUN', 'стать_VERB', 'случай_NOUN', 'сейчас_ADV', 'отвечать_VERB', 'один_ADJ', 'русский_ADJ', 'вопрос_NOUN', 'россия_PROPN', 'мир_NOUN', 'всегда_ADV', 'пойти_VERB', 'принимать_VERB', 'вид_NOUN', 'часть_NOUN', 'три_NUM', 'конец_NOUN', 'что-то_NOUN', 'находить_VERB', 'ребенок_NOUN']\n"
     ]
    }
   ],
   "source": [
    "print(top_base, '\\n\\n', top_tagged, '\\n\\n', top_poetic, '\\n\\n', top_prose)"
   ]
  },
  {
   "cell_type": "markdown",
   "metadata": {},
   "source": [
    "#### Sampling words that are present inside and outside of the 'rhyme zone'"
   ]
  },
  {
   "cell_type": "code",
   "execution_count": 107,
   "metadata": {},
   "outputs": [],
   "source": [
    "top_tagged = model_base_rh.wv.index2entity[::400]"
   ]
  },
  {
   "cell_type": "code",
   "execution_count": 108,
   "metadata": {},
   "outputs": [
    {
     "name": "stdout",
     "output_type": "stream",
     "text": [
      "57\n"
     ]
    }
   ],
   "source": [
    "print(len(top_tagged))"
   ]
  },
  {
   "cell_type": "code",
   "execution_count": 28,
   "metadata": {},
   "outputs": [],
   "source": [
    "def get_sim(model, word, top):\n",
    "    sim = []\n",
    "    for w, i in model(word, topn=top):\n",
    "        sim.append(w)\n",
    "    return sim"
   ]
  },
  {
   "cell_type": "code",
   "execution_count": 35,
   "metadata": {},
   "outputs": [],
   "source": [
    "rows = []\n",
    "for word in top_tagged:\n",
    "    if '/RHYME' in word:\n",
    "        try:\n",
    "            no_tag = word.strip('/RHYME')\n",
    "            tag_sim = get_sim(model_base_rh.wv.most_similar, word, 3)\n",
    "            notag_sim = get_sim(model_base_rh.wv.most_similar, no_tag, 3)\n",
    "            row = {'Слово': no_tag,\n",
    "                   'С тегом': ', '.join(tag_sim),\n",
    "                   'Без тега': ', '.join(notag_sim)}\n",
    "            rows.append(row)\n",
    "        except:\n",
    "            pass"
   ]
  },
  {
   "cell_type": "markdown",
   "metadata": {},
   "source": [
    "First ten examples:"
   ]
  },
  {
   "cell_type": "code",
   "execution_count": 39,
   "metadata": {},
   "outputs": [
    {
     "data": {
      "text/html": [
       "<div>\n",
       "<style scoped>\n",
       "    .dataframe tbody tr th:only-of-type {\n",
       "        vertical-align: middle;\n",
       "    }\n",
       "\n",
       "    .dataframe tbody tr th {\n",
       "        vertical-align: top;\n",
       "    }\n",
       "\n",
       "    .dataframe thead th {\n",
       "        text-align: right;\n",
       "    }\n",
       "</style>\n",
       "<table border=\"1\" class=\"dataframe\">\n",
       "  <thead>\n",
       "    <tr style=\"text-align: right;\">\n",
       "      <th></th>\n",
       "      <th>Слово</th>\n",
       "      <th>Без тега</th>\n",
       "      <th>С тегом</th>\n",
       "    </tr>\n",
       "  </thead>\n",
       "  <tbody>\n",
       "    <tr>\n",
       "      <th>0</th>\n",
       "      <td>посмотреть</td>\n",
       "      <td>взглядывать, поглядеть, смотреть</td>\n",
       "      <td>поглядеть/RHYME, взглядывать/RHYME, смотреть/R...</td>\n",
       "    </tr>\n",
       "    <tr>\n",
       "      <th>1</th>\n",
       "      <td>будто</td>\n",
       "      <td>буда, будто/RHYME, словно</td>\n",
       "      <td>будто, прежде/RHYME, обычно/RHYME</td>\n",
       "    </tr>\n",
       "    <tr>\n",
       "      <th>2</th>\n",
       "      <td>тополь</td>\n",
       "      <td>клен, береза, липа</td>\n",
       "      <td>береза/RHYME, клен/RHYME, тополь</td>\n",
       "    </tr>\n",
       "    <tr>\n",
       "      <th>3</th>\n",
       "      <td>топор</td>\n",
       "      <td>топор/RHYME, меч, сабля</td>\n",
       "      <td>топор, меч/RHYME, сабля/RHYME</td>\n",
       "    </tr>\n",
       "    <tr>\n",
       "      <th>4</th>\n",
       "      <td>игривый</td>\n",
       "      <td>озорной, шаловливый, смешливый</td>\n",
       "      <td>шаловливый/RHYME, озорной/RHYME, строптивый/RHYME</td>\n",
       "    </tr>\n",
       "    <tr>\n",
       "      <th>5</th>\n",
       "      <td>напролет</td>\n",
       "      <td>напролет/RHYME, просиживать, подряд</td>\n",
       "      <td>напролет, подряд/RHYME, бессонный/RHYME</td>\n",
       "    </tr>\n",
       "    <tr>\n",
       "      <th>6</th>\n",
       "      <td>отвергать</td>\n",
       "      <td>отринуть, пренебрегать, презирать</td>\n",
       "      <td>отринуть/RHYME, презирать/RHYME, пренебрегать/...</td>\n",
       "    </tr>\n",
       "    <tr>\n",
       "      <th>7</th>\n",
       "      <td>ребеночек</td>\n",
       "      <td>детишки, ребенок, деточка</td>\n",
       "      <td>детишки/RHYME, ребенок/RHYME, сынишка/RHYME</td>\n",
       "    </tr>\n",
       "    <tr>\n",
       "      <th>8</th>\n",
       "      <td>крупица</td>\n",
       "      <td>крупинка, крупица/RHYME, кроха</td>\n",
       "      <td>крупица, кроха/RHYME, частица/RHYME</td>\n",
       "    </tr>\n",
       "    <tr>\n",
       "      <th>9</th>\n",
       "      <td>переплет</td>\n",
       "      <td>переплет/RHYME, вязь, переплетение</td>\n",
       "      <td>переплет, вязь/RHYME, свиток/RHYME</td>\n",
       "    </tr>\n",
       "  </tbody>\n",
       "</table>\n",
       "</div>"
      ],
      "text/plain": [
       "        Слово                             Без тега  \\\n",
       "0  посмотреть     взглядывать, поглядеть, смотреть   \n",
       "1       будто            буда, будто/RHYME, словно   \n",
       "2      тополь                   клен, береза, липа   \n",
       "3       топор              топор/RHYME, меч, сабля   \n",
       "4     игривый       озорной, шаловливый, смешливый   \n",
       "5    напролет  напролет/RHYME, просиживать, подряд   \n",
       "6   отвергать    отринуть, пренебрегать, презирать   \n",
       "7   ребеночек            детишки, ребенок, деточка   \n",
       "8     крупица       крупинка, крупица/RHYME, кроха   \n",
       "9    переплет   переплет/RHYME, вязь, переплетение   \n",
       "\n",
       "                                             С тегом  \n",
       "0  поглядеть/RHYME, взглядывать/RHYME, смотреть/R...  \n",
       "1                  будто, прежде/RHYME, обычно/RHYME  \n",
       "2                   береза/RHYME, клен/RHYME, тополь  \n",
       "3                      топор, меч/RHYME, сабля/RHYME  \n",
       "4  шаловливый/RHYME, озорной/RHYME, строптивый/RHYME  \n",
       "5            напролет, подряд/RHYME, бессонный/RHYME  \n",
       "6  отринуть/RHYME, презирать/RHYME, пренебрегать/...  \n",
       "7        детишки/RHYME, ребенок/RHYME, сынишка/RHYME  \n",
       "8                крупица, кроха/RHYME, частица/RHYME  \n",
       "9                 переплет, вязь/RHYME, свиток/RHYME  "
      ]
     },
     "execution_count": 39,
     "metadata": {},
     "output_type": "execute_result"
    }
   ],
   "source": [
    "df_tag = pd.DataFrame(rows)\n",
    "titles = ['Слово', 'Без тега', 'С тегом']\n",
    "df_tag = df_tag.reindex(columns=titles)\n",
    "df_tag.to_csv('compareRHYME.csv', encoding='utf-8')\n",
    "df_tag.head(10)"
   ]
  },
  {
   "cell_type": "markdown",
   "metadata": {},
   "source": [
    "# 'Base' corpus vector model"
   ]
  },
  {
   "cell_type": "markdown",
   "metadata": {},
   "source": [
    "#### Different windows: % of intersection"
   ]
  },
  {
   "cell_type": "code",
   "execution_count": 110,
   "metadata": {},
   "outputs": [],
   "source": [
    "model_stihi_base = gensim.models.KeyedVectors.load_word2vec_format('model_stihi.ruWIN5.bin', binary=True)\n",
    "model_base2 = gensim.models.KeyedVectors.load_word2vec_format('model_stihi.ruWIN2.bin', binary=True)\n",
    "model_base8 = gensim.models.KeyedVectors.load_word2vec_format('model_stihi.ruWIN8.bin', binary=True)\n",
    "model_base15 = gensim.models.KeyedVectors.load_word2vec_format('model_stihi.ruWIN15.bin', binary=True)"
   ]
  },
  {
   "cell_type": "code",
   "execution_count": 112,
   "metadata": {},
   "outputs": [
    {
     "name": "stdout",
     "output_type": "stream",
     "text": [
      "Из первых 1000 слов у всех окон пересекаются: 98.5 %\n",
      "Из первых 1000 слов у окон 2 и 5 пересекаются: 99.7 %\n",
      "Из первых 1000 слов у окон 5 и 8 пересекаются: 99.8 %\n",
      "Из первых 1000 слов у окон 8 и 15 пересекаются: 99.8 %\n",
      "Wall time: 7.05 s\n"
     ]
    }
   ],
   "source": [
    "%%time\n",
    "vocab = model_base2.wv.index2entity[:1000]\n",
    "intersect = 0\n",
    "intersect25 = 0\n",
    "intersect58 = 0\n",
    "intersect815 = 0\n",
    "for word in vocab:\n",
    "    w2 = []\n",
    "    for t, n in model_base2.wv.most_similar(word, topn=3):\n",
    "        w2.append(t)\n",
    "    w5 = []\n",
    "    for t, n in model_stihi_base.wv.most_similar(word, topn=3):\n",
    "        w5.append(t)\n",
    "    w8 = []\n",
    "    for t, n in model_base8.wv.most_similar(word, topn=3):\n",
    "        w8.append(t)\n",
    "    w15 = []\n",
    "    for t, n in model_base15.wv.most_similar(word, topn=3):\n",
    "        w15.append(t)\n",
    "    if len(set(w2) & set(w5) & set(w8) & set(w15)) >= 2: \n",
    "        intersect +=1\n",
    "    if len(set(w2) & set(w5)) >= 2:\n",
    "        intersect25 +=1\n",
    "    if len(set(w5) & set(w8)) >= 2:\n",
    "        intersect58 +=1\n",
    "        intersect815 +=1\n",
    "print('Из первых %d слов у всех окон пересекаются:' % (len(vocab)), intersect / len(vocab) * 100, '%')\n",
    "print('Из первых %d слов у окон 2 и 5 пересекаются:' % (len(vocab)), intersect25 / len(vocab) * 100, '%')\n",
    "print('Из первых %d слов у окон 5 и 8 пересекаются:' % (len(vocab)), intersect58 / len(vocab) * 100, '%')\n",
    "print('Из первых %d слов у окон 8 и 15 пересекаются:' % (len(vocab)), intersect815 / len(vocab) * 100, '%')"
   ]
  }
 ],
 "metadata": {
  "kernelspec": {
   "display_name": "Python 3",
   "language": "python",
   "name": "python3"
  },
  "language_info": {
   "codemirror_mode": {
    "name": "ipython",
    "version": 3
   },
   "file_extension": ".py",
   "mimetype": "text/x-python",
   "name": "python",
   "nbconvert_exporter": "python",
   "pygments_lexer": "ipython3",
   "version": "3.7.3"
  }
 },
 "nbformat": 4,
 "nbformat_minor": 2
}
